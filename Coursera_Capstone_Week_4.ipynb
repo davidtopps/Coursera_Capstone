{
    "nbformat_minor": 1, 
    "cells": [
        {
            "source": "## Comparison of London boroughs for families with children seeking to move to London", 
            "cell_type": "markdown", 
            "metadata": {
                "collapsed": true
            }
        }, 
        {
            "source": "### Introduction/Business Problem\n\nMany people come to London to live and work. Often they are bringing pre-school or school-aged children to settle in the UK\u2019s capital. However, because of the high costs associated with living in the centre of London, many people search for accommodation in the suburbs.\n\nThere are 32 London boroughs, each with its own charactaristics and charm. For newcomers it can be difficult to know where to focus their search for accommodation, especially if they have diverse needs such as entertainment, parks, and good schools for their children.\n\nThere is a need amongst newcomers to London to better understand the different boroughs so that they can make an informed decision when choosing an area in which to live and raise children. The target audience would be families that include children, who would be interested in this topic because they are keen to understand not only the vibe of each borough, but also the quality of local schools.", 
            "cell_type": "markdown", 
            "metadata": {}
        }, 
        {
            "source": "### Data\n\nIn order to identify the London boroughs, data from a list on the following Wikipedia page will be scraped: https://en.wikipedia.org/wiki/London_boroughs\n\nCoordinates will then be appended using a Python package\n\nFoursquare location data will be used to examine and cluster the different boroughs of London to understand which could be more suitable for a family based on the prevalence of different amenities in the borough.\n\nI will additionally append UK government data on GSCE results by London borough (see note below), found at the following location: https://data.london.gov.uk/dataset/gcse-results-by-borough in order to complete the analysis and visualise the findings.\n\nNote: The GCSE is the General Certificate of Secondary Education, an English qualification demonstrating completion of secondary education (to age 16). GCSE results are often used to assess and rank the performance of secondary schools in England.", 
            "cell_type": "markdown", 
            "metadata": {}
        }, 
        {
            "execution_count": null, 
            "cell_type": "code", 
            "metadata": {}, 
            "outputs": [], 
            "source": ""
        }
    ], 
    "metadata": {
        "kernelspec": {
            "display_name": "Python 3.6", 
            "name": "python3", 
            "language": "python"
        }, 
        "language_info": {
            "mimetype": "text/x-python", 
            "nbconvert_exporter": "python", 
            "version": "3.6.8", 
            "name": "python", 
            "file_extension": ".py", 
            "pygments_lexer": "ipython3", 
            "codemirror_mode": {
                "version": 3, 
                "name": "ipython"
            }
        }
    }, 
    "nbformat": 4
}